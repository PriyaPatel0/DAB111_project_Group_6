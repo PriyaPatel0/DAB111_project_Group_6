{
 "cells": [
  {
   "cell_type": "code",
   "execution_count": 8,
   "metadata": {},
   "outputs": [],
   "source": [
    "from flask import Flask, render_template_string, render_template\n",
    "from werkzeug.serving import run_simple\n",
    "import pandas as pd\n"
   ]
  },
  {
   "cell_type": "code",
   "execution_count": 9,
   "metadata": {},
   "outputs": [],
   "source": [
    "import sqlite3"
   ]
  },
  {
   "cell_type": "code",
   "execution_count": 11,
   "metadata": {},
   "outputs": [],
   "source": [
    "import os"
   ]
  },
  {
   "cell_type": "code",
   "execution_count": 12,
   "metadata": {},
   "outputs": [],
   "source": [
    "\n",
    "current_dir = os.getcwd()\n",
    "db_path = os.path.join(current_dir, '..', 'Database', 'onlinefood.db')\n",
    "conn = sqlite3.connect(db_path)\n",
    "data_df = pd.read_sql_query(\"SELECT * FROM online_food\", conn)\n"
   ]
  },
  {
   "cell_type": "code",
   "execution_count": 13,
   "metadata": {},
   "outputs": [],
   "source": [
    "app = Flask(__name__)"
   ]
  },
  {
   "cell_type": "code",
   "execution_count": 14,
   "metadata": {},
   "outputs": [],
   "source": [
    "@app.route('/')\n",
    "def index():\n",
    "    return render_template('index.html')\n",
    "\n",
    "@app.route('/about')\n",
    "def about():\n",
    "    variable_definitions = {\n",
    "        \"Id\": \"A unique identifier assigned to each record.\",\n",
    "        \"Age\": \"The age of the individual in years.\",\n",
    "        \"Gender\": \"The gender of the individual.\",\n",
    "        \"Occupation\": \"The current occupation of the individual.\",\n",
    "        \"monthly_income\": \"The individual's monthly income.\",\n",
    "        \"latitude\": \"The geographical latitude coordinate.\",\n",
    "        \"longitude\": \"The geographical longitude coordinate.\",\n",
    "        \"Output\": \"A binary indicator representing a certain outcome.\"\n",
    "    }\n",
    "    return render_template('about.html', variable_definitions=variable_definitions)\n",
    "\n",
    "@app.route('/data')\n",
    "def data():\n",
    "    \n",
    "   current_dir = os.getcwd()\n",
    "   # Get the path of repository of database folder to get the access to onlinefood.db  \n",
    "   db_path = os.path.join(current_dir, '..', 'Database', 'onlinefood.db')\n",
    "   conn = sqlite3.connect(db_path)\n",
    "   data_df = pd.read_sql_query(\"SELECT * FROM online_food\", conn)\n",
    "  \n",
    "   data = data_df.to_dict(orient='records')\n",
    "\n",
    "    # Get column names\n",
    "   headers = list(data_df.columns)\n",
    "   \n",
    "    # Close the connection\n",
    "   conn.close()\n",
    "   \n",
    "   return render_template('data.html', data = data, headers = headers)\n"
   ]
  },
  {
   "cell_type": "code",
   "execution_count": 15,
   "metadata": {},
   "outputs": [
    {
     "name": "stderr",
     "output_type": "stream",
     "text": [
      "WARNING: This is a development server. Do not use it in a production deployment. Use a production WSGI server instead.\n",
      " * Running on http://localhost:5000\n",
      "Press CTRL+C to quit\n",
      "127.0.0.1 - - [20/Jul/2024 12:07:32] \"GET / HTTP/1.1\" 200 -\n",
      "127.0.0.1 - - [20/Jul/2024 12:07:35] \"GET /data HTTP/1.1\" 200 -\n"
     ]
    }
   ],
   "source": [
    "run_simple('localhost',5000,app,use_reloader=False, use_debugger=False)"
   ]
  },
  {
   "cell_type": "code",
   "execution_count": 7,
   "metadata": {},
   "outputs": [
    {
     "name": "stderr",
     "output_type": "stream",
     "text": [
      "WARNING: This is a development server. Do not use it in a production deployment. Use a production WSGI server instead.\n",
      " * Running on http://localhost:5000\n",
      "Press CTRL+C to quit\n"
     ]
    },
    {
     "name": "stderr",
     "output_type": "stream",
     "text": [
      "127.0.0.1 - - [19/Jul/2024 11:30:03] \"GET / HTTP/1.1\" 404 -\n",
      "127.0.0.1 - - [19/Jul/2024 11:30:10] \"GET / HTTP/1.1\" 404 -\n"
     ]
    }
   ],
   "source": [
    "run_simple('localhost',5000,app,use_reloader=False, use_debugger=False)"
   ]
  }
 ],
 "metadata": {
  "kernelspec": {
   "display_name": "Python 3",
   "language": "python",
   "name": "python3"
  },
  "language_info": {
   "codemirror_mode": {
    "name": "ipython",
    "version": 3
   },
   "file_extension": ".py",
   "mimetype": "text/x-python",
   "name": "python",
   "nbconvert_exporter": "python",
   "pygments_lexer": "ipython3",
   "version": "3.12.4"
  }
 },
 "nbformat": 4,
 "nbformat_minor": 2
}
