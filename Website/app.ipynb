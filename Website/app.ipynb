{
 "cells": [
  {
   "cell_type": "code",
   "execution_count": 12,
   "metadata": {},
   "outputs": [],
   "source": [
    "from flask import Flask, render_template_string, render_template\n",
    "from werkzeug.serving import run_simple\n",
    "import pandas as pd\n"
   ]
  },
  {
   "cell_type": "code",
   "execution_count": 13,
   "metadata": {},
   "outputs": [],
   "source": [
    "import sqlite3"
   ]
  },
  {
   "cell_type": "code",
   "execution_count": 14,
   "metadata": {},
   "outputs": [],
   "source": [
    "app = Flask(__name__)"
   ]
  },
  {
   "cell_type": "code",
   "execution_count": 15,
   "metadata": {},
   "outputs": [],
   "source": [
    "@app.route('/')\n",
    "def index():\n",
    "    return render_template('index.html')\n",
    "\n",
    "@app.route('/about')\n",
    "def about():\n",
    "    variable_definitions = {\n",
    "        \"Id\": \"A unique identifier assigned to each record.\",\n",
    "        \"Age\": \"The age of the individual in years.\",\n",
    "        \"Gender\": \"The gender of the individual.\",\n",
    "        \"Occupation\": \"The current occupation of the individual.\",\n",
    "        \"monthly_income\": \"The individual's monthly income.\",\n",
    "        \"latitude\": \"The geographical latitude coordinate.\",\n",
    "        \"longitude\": \"The geographical longitude coordinate.\",\n",
    "        \"Output\": \"A binary indicator representing a certain outcome.\"\n",
    "    }\n",
    "    return render_template('about.html', variable_definitions=variable_definitions)\n",
    "\n",
    "@app.route('/data')\n",
    "def data():\n",
    "    conn = sqlite3.connect('Database/onlinefood.db')\n",
    "    data_df = pd.read_sql_query(\"SELECT * FROM online_food\", conn)\n",
    "    print(data_df)\n",
    "    # Convert DataFrame to list of dictionaries\n",
    "    data = data_df.to_dict(orient='records')\n",
    "\n",
    "\n",
    "\n",
    "    # Get column names\n",
    "    headers = list(data_df.columns)\n",
    "    print(headers)\n",
    "    # Close the connection\n",
    "    conn.close()\n",
    "   \n",
    "    return render_template('data.html', data = data, headers = headers)\n"
   ]
  },
  {
   "cell_type": "code",
   "execution_count": 16,
   "metadata": {},
   "outputs": [
    {
     "name": "stderr",
     "output_type": "stream",
     "text": [
      "WARNING: This is a development server. Do not use it in a production deployment. Use a production WSGI server instead.\n",
      " * Running on http://localhost:5000\n"
     ]
    },
    {
     "name": "stderr",
     "output_type": "stream",
     "text": [
      "Press CTRL+C to quit\n",
      "127.0.0.1 - - [19/Jul/2024 13:22:14] \"GET / HTTP/1.1\" 200 -\n",
      "[2024-07-19 13:22:16,328] ERROR in app: Exception on /data [GET]\n",
      "Traceback (most recent call last):\n",
      "  File \"C:\\Users\\dutyf\\AppData\\Local\\Packages\\PythonSoftwareFoundation.Python.3.12_qbz5n2kfra8p0\\LocalCache\\local-packages\\Python312\\site-packages\\flask\\app.py\", line 1473, in wsgi_app\n",
      "    response = self.full_dispatch_request()\n",
      "               ^^^^^^^^^^^^^^^^^^^^^^^^^^^^\n",
      "  File \"C:\\Users\\dutyf\\AppData\\Local\\Packages\\PythonSoftwareFoundation.Python.3.12_qbz5n2kfra8p0\\LocalCache\\local-packages\\Python312\\site-packages\\flask\\app.py\", line 882, in full_dispatch_request\n",
      "    rv = self.handle_user_exception(e)\n",
      "         ^^^^^^^^^^^^^^^^^^^^^^^^^^^^^\n",
      "  File \"C:\\Users\\dutyf\\AppData\\Local\\Packages\\PythonSoftwareFoundation.Python.3.12_qbz5n2kfra8p0\\LocalCache\\local-packages\\Python312\\site-packages\\flask\\app.py\", line 880, in full_dispatch_request\n",
      "    rv = self.dispatch_request()\n",
      "         ^^^^^^^^^^^^^^^^^^^^^^^\n",
      "  File \"C:\\Users\\dutyf\\AppData\\Local\\Packages\\PythonSoftwareFoundation.Python.3.12_qbz5n2kfra8p0\\LocalCache\\local-packages\\Python312\\site-packages\\flask\\app.py\", line 865, in dispatch_request\n",
      "    return self.ensure_sync(self.view_functions[rule.endpoint])(**view_args)  # type: ignore[no-any-return]\n",
      "           ^^^^^^^^^^^^^^^^^^^^^^^^^^^^^^^^^^^^^^^^^^^^^^^^^^^^^^^^^^^^^^^^^\n",
      "  File \"C:\\Users\\dutyf\\AppData\\Local\\Temp\\ipykernel_25644\\219854774.py\", line 21, in data\n",
      "    conn = sqlite3.connect('Database/onlinefood.db')\n",
      "           ^^^^^^^^^^^^^^^^^^^^^^^^^^^^^^^^^^^^^^^^^\n",
      "sqlite3.OperationalError: unable to open database file\n",
      "127.0.0.1 - - [19/Jul/2024 13:22:16] \"GET /data HTTP/1.1\" 500 -\n",
      "127.0.0.1 - - [19/Jul/2024 13:22:20] \"GET /about HTTP/1.1\" 200 -\n",
      "127.0.0.1 - - [19/Jul/2024 13:22:22] \"GET / HTTP/1.1\" 200 -\n",
      "[2024-07-19 13:22:23,248] ERROR in app: Exception on /data [GET]\n",
      "Traceback (most recent call last):\n",
      "  File \"C:\\Users\\dutyf\\AppData\\Local\\Packages\\PythonSoftwareFoundation.Python.3.12_qbz5n2kfra8p0\\LocalCache\\local-packages\\Python312\\site-packages\\flask\\app.py\", line 1473, in wsgi_app\n",
      "    response = self.full_dispatch_request()\n",
      "               ^^^^^^^^^^^^^^^^^^^^^^^^^^^^\n",
      "  File \"C:\\Users\\dutyf\\AppData\\Local\\Packages\\PythonSoftwareFoundation.Python.3.12_qbz5n2kfra8p0\\LocalCache\\local-packages\\Python312\\site-packages\\flask\\app.py\", line 882, in full_dispatch_request\n",
      "    rv = self.handle_user_exception(e)\n",
      "         ^^^^^^^^^^^^^^^^^^^^^^^^^^^^^\n",
      "  File \"C:\\Users\\dutyf\\AppData\\Local\\Packages\\PythonSoftwareFoundation.Python.3.12_qbz5n2kfra8p0\\LocalCache\\local-packages\\Python312\\site-packages\\flask\\app.py\", line 880, in full_dispatch_request\n",
      "    rv = self.dispatch_request()\n",
      "         ^^^^^^^^^^^^^^^^^^^^^^^\n",
      "  File \"C:\\Users\\dutyf\\AppData\\Local\\Packages\\PythonSoftwareFoundation.Python.3.12_qbz5n2kfra8p0\\LocalCache\\local-packages\\Python312\\site-packages\\flask\\app.py\", line 865, in dispatch_request\n",
      "    return self.ensure_sync(self.view_functions[rule.endpoint])(**view_args)  # type: ignore[no-any-return]\n",
      "           ^^^^^^^^^^^^^^^^^^^^^^^^^^^^^^^^^^^^^^^^^^^^^^^^^^^^^^^^^^^^^^^^^\n",
      "  File \"C:\\Users\\dutyf\\AppData\\Local\\Temp\\ipykernel_25644\\219854774.py\", line 21, in data\n",
      "    conn = sqlite3.connect('Database/onlinefood.db')\n",
      "           ^^^^^^^^^^^^^^^^^^^^^^^^^^^^^^^^^^^^^^^^^\n",
      "sqlite3.OperationalError: unable to open database file\n",
      "127.0.0.1 - - [19/Jul/2024 13:22:23] \"GET /data HTTP/1.1\" 500 -\n"
     ]
    }
   ],
   "source": [
    "run_simple('localhost',5000,app,use_reloader=False, use_debugger=False)"
   ]
  },
  {
   "cell_type": "code",
   "execution_count": 6,
   "metadata": {},
   "outputs": [],
   "source": [
    "# @app.route('/')\n",
    "# def home():\n",
    "#     return render_template('base.ipynb')\n",
    "\n",
    "# @app.route('/')\n",
    "# def about():\n",
    "#     return render_template('about.ipynb')\n",
    "\n",
    "# @app.route('/')\n",
    "# def data():\n",
    "#     data = get_data()\n",
    "#     return render_template('data.ipynb', data=data)"
   ]
  },
  {
   "cell_type": "code",
   "execution_count": 7,
   "metadata": {},
   "outputs": [
    {
     "name": "stderr",
     "output_type": "stream",
     "text": [
      "WARNING: This is a development server. Do not use it in a production deployment. Use a production WSGI server instead.\n",
      " * Running on http://localhost:5000\n",
      "Press CTRL+C to quit\n"
     ]
    },
    {
     "name": "stderr",
     "output_type": "stream",
     "text": [
      "127.0.0.1 - - [19/Jul/2024 11:30:03] \"GET / HTTP/1.1\" 404 -\n",
      "127.0.0.1 - - [19/Jul/2024 11:30:10] \"GET / HTTP/1.1\" 404 -\n"
     ]
    }
   ],
   "source": [
    "run_simple('localhost',5000,app,use_reloader=False, use_debugger=False)"
   ]
  }
 ],
 "metadata": {
  "kernelspec": {
   "display_name": "Python 3",
   "language": "python",
   "name": "python3"
  },
  "language_info": {
   "codemirror_mode": {
    "name": "ipython",
    "version": 3
   },
   "file_extension": ".py",
   "mimetype": "text/x-python",
   "name": "python",
   "nbconvert_exporter": "python",
   "pygments_lexer": "ipython3",
   "version": "3.12.4"
  }
 },
 "nbformat": 4,
 "nbformat_minor": 2
}
